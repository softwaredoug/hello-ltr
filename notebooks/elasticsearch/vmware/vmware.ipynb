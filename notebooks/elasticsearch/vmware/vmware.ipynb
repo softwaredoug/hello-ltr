{
 "cells": [
  {
   "cell_type": "markdown",
   "metadata": {},
   "source": [
    "## Download the data"
   ]
  },
  {
   "cell_type": "code",
   "execution_count": null,
   "metadata": {},
   "outputs": [],
   "source": [
    "import os.path\n",
    "if not os.path.isfile('data/vmware_ir_content.csv'):\n",
    "    !pip install kaggle\n",
    "    !kaggle competitions download -c vmware-zero-shot-information-retrieval\n",
    "    !mkdir -p data/\n",
    "    !unzip -o vmware-zero-shot-information-retrieval.zip\n",
    "    !mv *.csv data/"
   ]
  },
  {
   "cell_type": "markdown",
   "metadata": {},
   "source": [
    "## Parse the vmware corpus\n",
    "\n",
    "- Load vmware text\n",
    "- Read metadata into fields"
   ]
  },
  {
   "cell_type": "code",
   "execution_count": null,
   "metadata": {},
   "outputs": [],
   "source": [
    "import pandas as pd\n",
    "corpus = pd.read_csv('data/vmware_ir_content.csv')\n",
    "queries = pd.read_csv('data/test.csv')\n",
    "corpus = corpus.fillna('')\n",
    "\n",
    "import json\n",
    "import ast\n",
    "\n",
    "parsed_rows = []\n",
    "\n",
    "for row in corpus.to_dict(orient='records'):\n",
    "    row_dict = ast.literal_eval(row['raw_meta'])\n",
    "    row_dict['id'] = row['f_name']\n",
    "    row_dict['f_name'] = row['f_name']\n",
    "    row_dict['raw_text'] = row['raw_text']\n",
    "    row_dict['document_group'] = row['document_group']\n",
    "\n",
    "    # fields that dont index for some reason\n",
    "    bad_fields = [\"DC.Date\", \"DC.Publisher\"]\n",
    "    for bad_field in bad_fields:\n",
    "        if bad_field in row_dict:\n",
    "            del row_dict[bad_field]\n",
    "        \n",
    "    parsed_rows.append(row_dict)\n",
    "    \n",
    "corpus = pd.DataFrame(parsed_rows)\n",
    "corpus"
   ]
  },
  {
   "cell_type": "markdown",
   "metadata": {},
   "source": [
    "## "
   ]
  },
  {
   "cell_type": "code",
   "execution_count": null,
   "metadata": {},
   "outputs": [],
   "source": [
    "#for row in corpus[corpus['id'].str.contains('GUID')]['id']:\n",
    "#    print(row)\n",
    "\n",
    "corpus"
   ]
  },
  {
   "cell_type": "code",
   "execution_count": null,
   "metadata": {},
   "outputs": [],
   "source": [
    "from ltr.client import ElasticClient\n",
    "client=ElasticClient()\n",
    "\n",
    "from ltr.index import rebuild\n",
    "rebuild(client, index='vmware', doc_src=parsed_rows, force=True)"
   ]
  },
  {
   "cell_type": "code",
   "execution_count": null,
   "metadata": {},
   "outputs": [],
   "source": [
    "def exact_phrase_title(client, query):\n",
    "    es = client.es\n",
    "    body = {\n",
    "        'size': 5,\n",
    "        'query': {\n",
    "            'multi_match': {\n",
    "                'fields': ['title'],\n",
    "                'type': 'phrase',\n",
    "                'query': query\n",
    "            }\n",
    "        }\n",
    "    }\n",
    "    return es.search(index='vmware', body=body)['hits']['hits']\n",
    "\n",
    "\n",
    "def exact_phrase(client, query):\n",
    "    es = client.es\n",
    "    body = {\n",
    "        'size': 5,\n",
    "        'query': {\n",
    "            'multi_match': {\n",
    "                'fields': ['title^100', 'description', 'raw_text'],\n",
    "                'type': 'phrase',\n",
    "                'query': query\n",
    "            }\n",
    "        }\n",
    "    }\n",
    "    return es.search(index='vmware', body=body)['hits']['hits']"
   ]
  },
  {
   "cell_type": "code",
   "execution_count": null,
   "metadata": {},
   "outputs": [],
   "source": [
    "def search(client, query):\n",
    "    es = client.es\n",
    "    body = {\n",
    "        'size': 5,\n",
    "        'query': {\n",
    "            'multi_match': {\n",
    "                'fields': ['title', 'description', 'raw_text'],\n",
    "                'type': 'cross_fields',\n",
    "                'query': query\n",
    "            }\n",
    "        }\n",
    "    }\n",
    "    return es.search(index='vmware', body=body)['hits']['hits']\n",
    "\n",
    "\n",
    "def search_all(client, queries, how=search):\n",
    "    all_results = []\n",
    "    for query in queries.to_dict(orient='records'):\n",
    "        print(f\"Searching for {query['QueryId']},{query['Query']}\")\n",
    "        results = how(client, query['Query'])\n",
    "        for rank, result in enumerate(results):\n",
    "            source = result['_source']\n",
    "            if rank == 0 and 'titleTag' in source:\n",
    "                print(source['titleTag'])\n",
    "            source['rank'] = rank\n",
    "            source['score'] = result['_score']\n",
    "            source['DocumentId'] = source['id']\n",
    "            source['QueryId'] = query['QueryId']\n",
    "            all_results.append(source)\n",
    "        print()\n",
    "        print()\n",
    "    all_results = pd.DataFrame(all_results)\n",
    "    return queries.merge(all_results, how='left', on='QueryId').sort_values(['QueryId', 'rank'])\n",
    "    \n",
    "#submission = search_all(client, queries)"
   ]
  },
  {
   "cell_type": "code",
   "execution_count": null,
   "metadata": {},
   "outputs": [],
   "source": [
    "exact_phrase_matches = search_all(client, queries, how=exact_phrase)"
   ]
  },
  {
   "cell_type": "code",
   "execution_count": null,
   "metadata": {},
   "outputs": [],
   "source": [
    "exact_phrase_matches[(exact_phrase_matches['score'] > 20) & \n",
    "                     (~exact_phrase_matches['titleTag'].isna())][['Query', 'titleTag', 'score']]"
   ]
  },
  {
   "cell_type": "code",
   "execution_count": null,
   "metadata": {},
   "outputs": [],
   "source": [
    "def write_submission():\n",
    "    from time import time\n",
    "    timestamp = str(time()).replace('.', '')\n",
    "    fname = f'data/turnbull_submission_{timestamp}.csv'\n",
    "    print(\"Writing To: \", fname)\n",
    "    submission[['QueryId', 'DocumentId']].to_csv(fname, index=False)"
   ]
  },
  {
   "cell_type": "code",
   "execution_count": null,
   "metadata": {},
   "outputs": [],
   "source": [
    "submission[['QueryId', 'DocumentId']]"
   ]
  },
  {
   "cell_type": "code",
   "execution_count": null,
   "metadata": {},
   "outputs": [],
   "source": [
    "write_submission()"
   ]
  },
  {
   "cell_type": "code",
   "execution_count": null,
   "metadata": {},
   "outputs": [],
   "source": [
    "corpus[corpus['id'].str.contains('https---blogs.vmware.com-cloudprovider-2015-11-simplifying-cloud-spending-with-vmware-subscription-purchase-program.txt')]"
   ]
  },
  {
   "cell_type": "markdown",
   "metadata": {},
   "source": [
    "## What's different"
   ]
  },
  {
   "cell_type": "code",
   "execution_count": null,
   "metadata": {},
   "outputs": [],
   "source": [
    "pd.read_csv('data/turnbull_submission_1652544680901428.csv')"
   ]
  },
  {
   "cell_type": "code",
   "execution_count": null,
   "metadata": {},
   "outputs": [],
   "source": []
  }
 ],
 "metadata": {
  "kernelspec": {
   "display_name": "Python 3",
   "language": "python",
   "name": "python3"
  },
  "language_info": {
   "codemirror_mode": {
    "name": "ipython",
    "version": 3
   },
   "file_extension": ".py",
   "mimetype": "text/x-python",
   "name": "python",
   "nbconvert_exporter": "python",
   "pygments_lexer": "ipython3",
   "version": "3.8.9"
  }
 },
 "nbformat": 4,
 "nbformat_minor": 2
}

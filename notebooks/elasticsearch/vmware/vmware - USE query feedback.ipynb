{
 "cells": [
  {
   "cell_type": "markdown",
   "metadata": {},
   "source": [
    "## Before starting - setup index\n",
    "\n",
    "```\n",
    "cd notebooks/elasticsearch/vmware\n",
    "python extract_use_es.py 0    # base reindex step\n",
    "python extract_use_es.py 1    # enrich with USE\n",
    "```"
   ]
  },
  {
   "cell_type": "code",
   "execution_count": null,
   "metadata": {},
   "outputs": [],
   "source": [
    "from ltr.client import ElasticClient\n",
    "client=ElasticClient()"
   ]
  },
  {
   "cell_type": "code",
   "execution_count": null,
   "metadata": {},
   "outputs": [],
   "source": [
    "def exact_phrase_title(client, query):\n",
    "    es = client.es\n",
    "    body = {\n",
    "        'size': 5,\n",
    "        'query': {\n",
    "            'multi_match': {\n",
    "                'fields': ['title'],\n",
    "                'type': 'phrase',\n",
    "                'query': query\n",
    "            }\n",
    "        }\n",
    "    }\n",
    "    return es.search(index='vmware', body=body)['hits']['hits']\n",
    "\n",
    "\n",
    "def exact_phrase_anywhere(client, query):\n",
    "    es = client.es\n",
    "    body = {\n",
    "        'size': 5,\n",
    "        'query': {\n",
    "            'multi_match': {\n",
    "                'fields': ['title^100', 'description^10', 'raw_text'],\n",
    "                'type': 'phrase',\n",
    "                'query': query\n",
    "            }\n",
    "        }\n",
    "    }\n",
    "    return es.search(index='vmware', body=body)['hits']['hits']\n",
    "\n",
    "\n",
    "def search_bm25(client, query):\n",
    "    es = client.es\n",
    "    body = {\n",
    "        'size': 5,\n",
    "        'query': {\n",
    "            'multi_match': {\n",
    "                'fields': ['title', 'description', 'raw_text'],\n",
    "                'type': 'cross_fields',\n",
    "                'query': query,\n",
    "                'minimum_should_match': '100%'\n",
    "            }\n",
    "        }\n",
    "    }\n",
    "    return es.search(index='vmware', body=body)['hits']['hits']\n"
   ]
  },
  {
   "cell_type": "markdown",
   "metadata": {},
   "source": [
    "## Use exact phrase matches for USE expansion\n",
    "\n",
    "Here we search Elasticsearch for exact phrase matches. We'll use the USE vectors of these matches later to expand these queries"
   ]
  },
  {
   "cell_type": "code",
   "execution_count": null,
   "metadata": {},
   "outputs": [],
   "source": [
    "import pandas as pd\n",
    "\n",
    "def search_all(client, queries, how=search_bm25):\n",
    "    \"\"\"Create a submittable set of search results\"\"\"\n",
    "    all_results = []\n",
    "    for query in queries.to_dict(orient='records'):\n",
    "        results = how(client, query['Query'])\n",
    "        for rank, result in enumerate(results):\n",
    "            source = result['_source']\n",
    "            source['rank'] = rank\n",
    "            source['score'] = result['_score']\n",
    "            source['DocumentId'] = source['id']\n",
    "            source['QueryId'] = query['QueryId']\n",
    "            all_results.append(source)\n",
    "    all_results = pd.DataFrame(all_results)\n",
    "    return queries.merge(all_results, how='left', on='QueryId').sort_values(['QueryId', 'rank'])\n",
    "\n",
    "\n",
    "queries = pd.read_csv(\"data/test.csv\")\n",
    "full_matches = search_all(client, queries, how=exact_phrase_anywhere)\n",
    "full_matches"
   ]
  },
  {
   "cell_type": "code",
   "execution_count": null,
   "metadata": {},
   "outputs": [],
   "source": [
    "first_phrase_match_for_query = full_matches.groupby('QueryId').first()\n",
    "first_phrase_match_for_query = first_phrase_match_for_query[~first_phrase_match_for_query['title'].isna()]\n",
    "first_phrase_match_for_query"
   ]
  },
  {
   "cell_type": "code",
   "execution_count": null,
   "metadata": {},
   "outputs": [],
   "source": [
    "def use_phrase_feedback_search(client, query):\n",
    "    if query in first_phrase_match_for_query['Query'].tolist():\n",
    "        query_vector = first_phrase_match_for_query[first_for_query['Query'] == query]['raw_text_use'].iloc[0]\n",
    "        es = client.es\n",
    "        body = {\n",
    "          \"query\": {\n",
    "              \"script_score\": {\n",
    "                \"query\": {\"match_all\": {}},\n",
    "                \"script\": {\n",
    "                  \"source\": \"cosineSimilarity(params.query_vector, 'raw_text_use') + 1.0\",\n",
    "                  \"params\": {\"query_vector\": query_vector}\n",
    "                }\n",
    "              }\n",
    "          }\n",
    "        }\n",
    "        return es.search(index='vmware', body=body)['hits']['hits']\n",
    "    return []\n",
    "\n",
    "results = use_phrase_feedback_search(client=client, query='what is application modernization')\n",
    "for result in results:\n",
    "    print(result['_source']['titleTag'])"
   ]
  },
  {
   "cell_type": "markdown",
   "metadata": {},
   "source": [
    "## Use just BM25 matches for USE expansion\n",
    "\n",
    "Here we search Elasticsearch for less restrictive BM25 matches. We'll use the USE vectors of these matches later to expand these queries"
   ]
  },
  {
   "cell_type": "code",
   "execution_count": null,
   "metadata": {},
   "outputs": [],
   "source": [
    "bm25_results = search_all(client, queries, how=search_bm25)\n",
    "bm25_results"
   ]
  },
  {
   "cell_type": "code",
   "execution_count": null,
   "metadata": {},
   "outputs": [],
   "source": [
    "bm25_results.groupby('QueryId')['raw_text_use'].first()"
   ]
  },
  {
   "cell_type": "code",
   "execution_count": null,
   "metadata": {},
   "outputs": [],
   "source": [
    "bm25_results.groupby('QueryId')['raw_text_use'].sum()"
   ]
  },
  {
   "cell_type": "code",
   "execution_count": null,
   "metadata": {},
   "outputs": [],
   "source": [
    "import numpy as np\n",
    "\n",
    "bm25_results = bm25_results.loc[~bm25_results['title'].isna(), :]\n",
    "bm25_results['raw_text_use_np'] = bm25_results['raw_text_use'].apply(np.array)\n",
    "bm25_use_expansion = bm25_results.groupby(['Query', 'QueryId'])['raw_text_use_np'].sum().to_frame().reset_index()"
   ]
  },
  {
   "cell_type": "code",
   "execution_count": null,
   "metadata": {},
   "outputs": [],
   "source": [
    "bm25_use_expansion"
   ]
  },
  {
   "cell_type": "code",
   "execution_count": null,
   "metadata": {},
   "outputs": [],
   "source": [
    "def use_bm25_feedback_search(client, query):\n",
    "    if query in bm25_use_expansion['Query'].tolist():\n",
    "        query_vector = bm25_use_expansion[bm25_use_expansion['Query'] == query]['raw_text_use_np'].iloc[0].tolist()\n",
    "        es = client.es\n",
    "        body = {\n",
    "          \"query\": {\n",
    "              \"script_score\": {\n",
    "                \"query\": {\"match_all\": {}},\n",
    "                \"script\": {\n",
    "                  \"source\": \"cosineSimilarity(params.query_vector, 'raw_text_use') + 1.0\",\n",
    "                  \"params\": {\"query_vector\": query_vector}\n",
    "                }\n",
    "              }\n",
    "          }\n",
    "        }\n",
    "        return es.search(index='vmware', body=body)['hits']['hits']\n",
    "    return []\n",
    "\n",
    "results = use_bm25_feedback_search(client=client, query='what is application modernization')\n",
    "for result in results:\n",
    "    print(result['_source']['titleTag'])"
   ]
  },
  {
   "cell_type": "code",
   "execution_count": null,
   "metadata": {},
   "outputs": [],
   "source": [
    "if 'use' not in queries.columns:\n",
    "\n",
    "    import tensorflow_text\n",
    "    import tensorflow_hub as hub\n",
    "    import tensorflow as tf\n",
    "    use = hub.load(\"https://tfhub.dev/google/universal-sentence-encoder-multilingual/3\")\n",
    "\n",
    "    queries['use'] = queries['Query'].apply(use)\n",
    "\n",
    "def use_direct_search(client, query):\n",
    "    query_vector = queries.loc[queries['Query'] == query, 'use']\n",
    "    query_vector = use(query).numpy().tolist()[0]\n",
    "    es = client.es\n",
    "    body = {\n",
    "      \"query\": {\n",
    "          \"script_score\": {\n",
    "            \"query\": {\"match_all\": {}},\n",
    "            \"script\": {\n",
    "              \"source\": \"cosineSimilarity(params.query_vector, 'raw_text_use') + 1.0\",\n",
    "              \"params\": {\"query_vector\": query_vector}\n",
    "            }\n",
    "          }\n",
    "      }\n",
    "    }\n",
    "    return es.search(index='vmware', body=body)['hits']['hits']\n",
    "\n",
    "results = use_direct_search(client=client, query='how to uninstall vmware fusion')\n",
    "#for result in results:\n",
    "#    print(result['_source']['titleTag'])"
   ]
  },
  {
   "cell_type": "code",
   "execution_count": null,
   "metadata": {},
   "outputs": [],
   "source": [
    "from time import perf_counter\n",
    "\n",
    "def recip_rank_fusion(client, queries, how=[search_bm25, use_bm25_feedback_search, use_direct_search]):\n",
    "    \"\"\"Create a submittable set of search results w/ multiple strategies using RRF\"\"\"\n",
    "    all_results = []\n",
    "    start_time = perf_counter()\n",
    "    for idx, query in enumerate(queries.to_dict(orient='records')):\n",
    "        query_results = {}\n",
    "        for searcher in how:\n",
    "            results = searcher(client, query['Query'])\n",
    "            for rank, result in enumerate(results):\n",
    "                doc_id = result['_id']\n",
    "                if doc_id not in query_results:\n",
    "                    source = result['_source']\n",
    "                    source['score'] = {}\n",
    "                    source['recip_rank'] = {}\n",
    "                    source['rrf_score'] = 0.0\n",
    "                    source['rank'] = {}\n",
    "                    source['DocumentId'] = doc_id\n",
    "                    source['QueryId'] = query['QueryId']\n",
    "                    if 'titleTag' in source:\n",
    "                        source['title'] = source['titleTag']\n",
    "                    else:\n",
    "                        source['title'] = source['raw_text'].split(\"\\n\")[0]\n",
    "                    \n",
    "                    query_results[doc_id] = source\n",
    "                searcher_name = searcher.__name__\n",
    "                query_results[doc_id]['score'][searcher_name] = result['_score']\n",
    "                query_results[doc_id]['recip_rank'][searcher_name] = 1 / (rank + 1)\n",
    "                query_results[doc_id]['rrf_score'] += 1 / (rank + 1)\n",
    "                query_results[doc_id]['rank'][searcher_name] = rank\n",
    "        \n",
    "        # sorted_by_rrf = sorted(query_results.values(),  key=lambda val: val['rrf_score'], reverse=True)\n",
    "        if (idx % 100) == 0:\n",
    "            print(idx, query['Query'], len(query_results), perf_counter() - start_time)\n",
    "        all_results.extend(query_results.values())\n",
    "        \n",
    "    all_results = pd.DataFrame(all_results)\n",
    "    return queries.merge(all_results, how='left', on='QueryId').sort_values(['QueryId', 'rrf_score'], ascending=[True, False])"
   ]
  },
  {
   "cell_type": "code",
   "execution_count": null,
   "metadata": {},
   "outputs": [],
   "source": [
    "rrf_results = recip_rank_fusion(client, queries)"
   ]
  },
  {
   "cell_type": "code",
   "execution_count": null,
   "metadata": {},
   "outputs": [],
   "source": [
    "for result in rrf_results[rrf_results['Query'] == 'how to use vmware workstation'].to_dict(orient='record'):\n",
    "    print(result['title'], result['rrf_score'], result['recip_rank'])"
   ]
  },
  {
   "cell_type": "code",
   "execution_count": null,
   "metadata": {},
   "outputs": [],
   "source": [
    "results = search_bm25(client, 'what is vmware')\n",
    "for result in results:\n",
    "    print(result['_source']['titleTag'], result['_score'])"
   ]
  },
  {
   "cell_type": "code",
   "execution_count": null,
   "metadata": {},
   "outputs": [],
   "source": [
    "def write_submission():\n",
    "    from time import time\n",
    "    timestamp = str(time()).replace('.', '')\n",
    "    fname = f'data/use_feedback_rrf_turnbull_submission_{timestamp}.csv'\n",
    "    print(\"Writing To: \", fname)\n",
    "    rrf_results[['QueryId', 'DocumentId']].to_csv(fname, index=False)\n",
    "    \n",
    "write_submission()"
   ]
  },
  {
   "cell_type": "code",
   "execution_count": null,
   "metadata": {},
   "outputs": [],
   "source": []
  }
 ],
 "metadata": {
  "kernelspec": {
   "display_name": "Python 3",
   "language": "python",
   "name": "python3"
  },
  "language_info": {
   "codemirror_mode": {
    "name": "ipython",
    "version": 3
   },
   "file_extension": ".py",
   "mimetype": "text/x-python",
   "name": "python",
   "nbconvert_exporter": "python",
   "pygments_lexer": "ipython3",
   "version": "3.8.9"
  }
 },
 "nbformat": 4,
 "nbformat_minor": 2
}
